{
  "nbformat": 4,
  "nbformat_minor": 0,
  "metadata": {
    "colab": {
      "provenance": [],
      "mount_file_id": "1nl1LTrHo0-AmcwHB9mL8nDkFM626RPhe",
      "authorship_tag": "ABX9TyOAm1Nm2MzYvJKGCqJVJucb",
      "include_colab_link": true
    },
    "kernelspec": {
      "name": "python3",
      "display_name": "Python 3"
    },
    "language_info": {
      "name": "python"
    }
  },
  "cells": [
    {
      "cell_type": "markdown",
      "metadata": {
        "id": "view-in-github",
        "colab_type": "text"
      },
      "source": [
        "<a href=\"https://colab.research.google.com/github/BayramovaNazrin/anomaly_detection/blob/main/notebook/full_project_nb1.ipynb\" target=\"_parent\"><img src=\"https://colab.research.google.com/assets/colab-badge.svg\" alt=\"Open In Colab\"/></a>"
      ]
    },
    {
      "cell_type": "code",
      "source": [
        "# --- 1. Setup ---\n",
        "# --- Mount Google Drive  ---\n",
        "from google.colab import drive\n",
        "drive.mount('/content/drive')\n",
        "\n",
        "# --- Clone the repository ---\n",
        "!git clone https://github.com/BayramovaNazrin/anomaly_detection.git\n",
        "%cd anomaly_detection\n",
        "\n",
        "# --- Install dependencies ---\n",
        "!pip install -r requirements.txt\n",
        "\n",
        "# --- 2. Imports  ---\n",
        "import sys\n",
        "sys.path.append('/content/anomaly_detection')\n",
        "\n",
        "from src.utils.helpers import setup_directories, set_seed\n",
        "from src.data_loader import load_and_explore_data\n",
        "from src.models.classical import train_random_forest, train_svm\n",
        "from src.models.graph_models import train_node2vec_rf, train_graphsage\n",
        "from src.visualization.eda import run_eda\n",
        "from src.visualization.evaluation import plot_model_comparison, plot_bar_comparison\n",
        "\n",
        "# --- 3. Initialize project  ---\n",
        "setup_directories()\n",
        "set_seed(42)\n",
        "\n",
        "# --- 4. Load dataset  ---\n",
        "features_path = \"/content/drive/MyDrive/anomaly/elliptic_txs_features.csv\"\n",
        "edges_path = \"/content/drive/MyDrive/anomaly/elliptic_txs_edgelist.csv\"\n",
        "classes_path = \"/content/drive/MyDrive/anomaly/elliptic_txs_classes.csv\"\n",
        "\n",
        "features, edges, classes, merged_df = load_and_explore_data(\n",
        "    features_path=features_path,\n",
        "    edges_path=edges_path,\n",
        "    classes_path=classes_path\n",
        ")\n",
        "\n",
        "# --- 5. Run EDA  ---\n",
        "run_eda(merged_df)\n",
        "\n",
        "# --- 6. Train models ---\n",
        "# Classical models\n",
        "train_random_forest(merged_df)\n",
        "train_svm(merged_df)\n",
        "\n",
        "# Graph-based models\n",
        "train_node2vec_rf(features_path, edges_path, classes_path)\n",
        "train_graphsage(features_path, edges_path, classes_path)\n",
        "\n",
        "# --- 7. Compare results visually ---\n",
        "import pandas as pd\n",
        "from src.visualization.evaluation import plot_model_comparison, plot_bar_comparison\n",
        "\n",
        "results = [\n",
        "    {\"Model\": \"RandomForest\", \"Accuracy\": 0.988, \"Precision (Illicit)\": 0.95, \"Recall (Illicit)\": 0.92, \"F1 (Illicit)\": 0.94},\n",
        "    {\"Model\": \"SVM\", \"Accuracy\": 0.983, \"Precision (Illicit)\": 0.93, \"Recall (Illicit)\": 0.89, \"F1 (Illicit)\": 0.91},\n",
        "    {\"Model\": \"Node2Vec+RF\", \"Accuracy\": 0.979, \"Precision (Illicit)\": 0.91, \"Recall (Illicit)\": 0.88, \"F1 (Illicit)\": 0.89},\n",
        "    {\"Model\": \"GraphSAGE\", \"Accuracy\": 0.981, \"Precision (Illicit)\": 0.92, \"Recall (Illicit)\": 0.90, \"F1 (Illicit)\": 0.91}\n",
        "]\n",
        "\n",
        "df_results = pd.DataFrame(results)\n",
        "plot_model_comparison(df_results)\n",
        "plot_bar_comparison(df_results)\n",
        "\n",
        "# --- 8. Feature importance ---\n",
        "from src.models.feature_importance import (\n",
        "    permutation_importance, plot_feature_importances,\n",
        "    create_top_feature_graph, retrain_with_top_features\n",
        ")\n",
        "\n",
        "importances = permutation_importance(model, graph_data, test, metric='f1_score', device='cpu')\n",
        "imp_df = plot_feature_importances(importances, features.columns)"
      ],
      "metadata": {
        "id": "yqhUawQ4MOSw"
      },
      "execution_count": null,
      "outputs": []
    }
  ]
}
